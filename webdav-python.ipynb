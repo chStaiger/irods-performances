{
 "cells": [
  {
   "cell_type": "code",
   "execution_count": 33,
   "metadata": {},
   "outputs": [],
   "source": [
    "import os\n",
    "import time\n",
    "from pathlib import Path\n",
    "from getpass import getpass\n",
    "from webdav3.client import Client\n"
   ]
  },
  {
   "cell_type": "code",
   "execution_count": 75,
   "metadata": {},
   "outputs": [],
   "source": [
    "\n",
    "class LargeFile():\n",
    "    def __init__(self, file_size, file_fp):\n",
    "        self.file_fp = file_fp\n",
    "        self.file_size = file_size\n",
    "        os.system(f\"fallocate -l {file_size} {str(file_fp)}\")\n",
    "\n",
    "    @property\n",
    "    def data(self):\n",
    "        return self.file_fp\n",
    "\n",
    "class ManyFileDir():\n",
    "    def __init__(self, file_size, n_files, dir_fp):\n",
    "        self.file_size = file_size\n",
    "        self.n_files = n_files\n",
    "        self.dir_fp = Path(dir_fp)\n",
    "        self.dir_fp.mkdir(exist_ok=True, parents=True)\n",
    "        for i_file in range(n_files):\n",
    "            file_fp = Path(dir_fp, f\"{file_size}_{i_file}.bin\")\n",
    "            os.system(f\"fallocate -l {file_size} {str(file_fp)}\")\n",
    "\n",
    "    @property\n",
    "    def data(self):\n",
    "        return self.dir_fp\n",
    "\n",
    "class BenchMarkData():\n",
    "    def __init__(self, local_data_dir):\n",
    "        self.local_data_dir = Path(local_data_dir)\n",
    "        self.local_data_dir.mkdir(exist_ok=True, parents=True)\n",
    "        self.benches = {\n",
    "            \"500M\": LargeFile(\"500M\", Path(local_data_dir, \"500M.bin\")),\n",
    "            \"2G\": LargeFile(\"2K\", Path(local_data_dir, \"2G.bin\")),\n",
    "            \"2000x200K\": ManyFileDir(\"200K\", 20, Path(local_data_dir, \"2000x200K\")),\n",
    "        }\n",
    "        self.tmp_dir = self.local_data_dir / \"temp\"\n",
    "\n",
    "    def run_filecount(self, bencher, file_size=\"200K\"):\n",
    "        # for bench_name, file_obj in self.benches.items():\n",
    "        result_dict = {}\n",
    "        for count in [1, 4, 8, 10, 20, 30]:\n",
    "            file_obj = ManyFileDir(file_size, count, Path(self.local_data_dir, f\"{count}x{file_size}\"))\n",
    "            start = time.perf_counter()\n",
    "            bencher.upload(file_obj)\n",
    "            end = time.perf_counter()\n",
    "            print(count, end-start)\n",
    "            result_dict[count] = end-start\n",
    "        return result_dict\n"
   ]
  },
  {
   "cell_type": "code",
   "execution_count": 76,
   "metadata": {},
   "outputs": [],
   "source": [
    "data_dir = Path.home() / Path(\"cache\", \"uu-storage\")\n",
    "bench = BenchMarkData(data_dir)"
   ]
  },
  {
   "cell_type": "code",
   "execution_count": 72,
   "metadata": {},
   "outputs": [],
   "source": [
    "class WebDavBencher():\n",
    "    def __init__(self, server, username, password, datadir=\"test\"):\n",
    "        self.client = Client({\n",
    "            \"webdav_hostname\": server,\n",
    "            \"webdav_login\": username,  # User name here\n",
    "            \"webdav_password\": passwd,\n",
    "            \"webdav_timeout\": 120,  # Time out longer for bigger files.\n",
    "            \"disable_check\": True\n",
    "        })\n",
    "        self.datadir = datadir\n",
    "        self.client.mkdir(datadir)\n",
    "\n",
    "    def upload(self, file_obj):\n",
    "        remote_dir = f\"{self.datadir}/{file_obj.data.name}\"\n",
    "        self.client.mkdir(remote_dir)\n",
    "        self.client.upload(remote_dir, file_obj.data)\n",
    "\n",
    "    def download(self, file_or_dir_name, tmp_dir):\n",
    "        Path(tmp_dir).mkdir(exist_ok=True, parents=True)\n",
    "        self.client.download(f\"{self.datadir}/{file_or_dir_name}\", tmp_dir)\n",
    "        "
   ]
  },
  {
   "cell_type": "code",
   "execution_count": 68,
   "metadata": {},
   "outputs": [],
   "source": [
    "passwd = getpass()"
   ]
  },
  {
   "cell_type": "code",
   "execution_count": 73,
   "metadata": {},
   "outputs": [],
   "source": [
    "bencher = WebDavBencher(\"https://surfdrive.surf.nl/files/remote.php/nonshib-webdav/\",\n",
    "                        \"3154254@soliscom.uu.nl\",\n",
    "                        passwd)"
   ]
  },
  {
   "cell_type": "code",
   "execution_count": 77,
   "metadata": {},
   "outputs": [
    {
     "name": "stdout",
     "output_type": "stream",
     "text": [
      "1 2.3512058799969964\n",
      "4 3.4364371140036383\n",
      "8 5.260656395999831\n",
      "10 6.163306111004204\n",
      "20 10.152705783999409\n",
      "30 14.325760086001537\n"
     ]
    }
   ],
   "source": [
    "data = bench.run_filecount(bencher)"
   ]
  },
  {
   "cell_type": "code",
   "execution_count": 86,
   "metadata": {},
   "outputs": [],
   "source": [
    "from matplotlib import pyplot as plt\n",
    "import numpy as np"
   ]
  },
  {
   "cell_type": "code",
   "execution_count": 93,
   "metadata": {},
   "outputs": [
    {
     "data": {
      "image/png": "[encoded data removed]",
      "text/plain": [
       "<Figure size 640x480 with 1 Axes>"
      ]
     },
     "metadata": {},
     "output_type": "display_data"
    }
   ],
   "source": [
    "plt.plot(data.keys(), data.values())\n",
    "plt.plot(np.arange(30), 2+0.41*np.arange(30))\n",
    "plt.show()"
   ]
  },
  {
   "cell_type": "code",
   "execution_count": null,
   "metadata": {},
   "outputs": [],
   "source": []
  }
 ],
 "metadata": {
  "kernelspec": {
   "display_name": "Python 3 (ipykernel)",
   "language": "python",
   "name": "python3"
  },
  "language_info": {
   "codemirror_mode": {
    "name": "ipython",
    "version": 3
   },
   "file_extension": ".py",
   "mimetype": "text/x-python",
   "name": "python",
   "nbconvert_exporter": "python",
   "pygments_lexer": "ipython3",
   "version": "3.9.10"
  }
 },
 "nbformat": 4,
 "nbformat_minor": 2
}
